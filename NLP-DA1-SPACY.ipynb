{
 "cells": [
  {
   "cell_type": "code",
   "execution_count": 1,
   "metadata": {},
   "outputs": [],
   "source": [
    "#Natural Language Processing\n",
    "#Digital Assignment 1\n",
    "#Pavitra Kadiyala"
   ]
  },
  {
   "cell_type": "code",
   "execution_count": 42,
   "metadata": {},
   "outputs": [
    {
     "name": "stdout",
     "output_type": "stream",
     "text": [
      "USA GPE\n",
      "next year DATE\n"
     ]
    }
   ],
   "source": [
    "#Natural Language Processing\n",
    "#Digital Assignment 1\n",
    "#Pavitra Kadiyala\n",
    "import spacy\n",
    "\n",
    "nlp = spacy.load(\"en_core_web_sm\")\n",
    "doc = nlp(\"I want to go to USA next year\")\n",
    "\n",
    "for ent in doc.ents:\n",
    "    print(ent.text, ent.label_)"
   ]
  },
  {
   "cell_type": "code",
   "execution_count": 18,
   "metadata": {},
   "outputs": [
    {
     "name": "stdout",
     "output_type": "stream",
     "text": [
      "(96,)\n",
      "[-2.1803513  -1.4090941  -0.5332699  -3.4722078   0.43554235  1.2463269\n",
      "  1.0133808   2.8012557   1.2979726  -0.672066   -1.6594481   3.2690969\n",
      "  3.0542462  -2.110222   -0.13144189 -1.4785154  -2.3599107  -1.5521009\n",
      " -0.43917954  0.25214472  1.1526544   0.10927522  1.3849294   1.0092961\n",
      "  1.035984   -0.7348566   0.59244525  0.68387085  1.0331905   3.4428034\n",
      " -2.5214705  -1.7401202  -0.9376959  -1.3471514  -0.4153484  -0.8813118\n",
      " -0.97033596 -0.57280767 -1.801109    4.6130543  -0.64262587  1.1556304\n",
      " -1.3902651   3.352664   -2.023656   -2.9631987  -1.4381175  -1.0980572\n",
      "  0.31874812 -2.2179978  -2.7047725  -1.9839461  -0.95832264  1.0261118\n",
      " -1.6324812   1.5557406  -0.90241003  0.32679376  1.6092653   0.22832012\n",
      " -0.22825813  1.6326871  -0.6169511  -0.8097913   4.0082693  -1.8218055\n",
      "  0.29908    -0.32427937 -2.2169657  -0.83942735 -0.05905412 -0.56603473\n",
      "  2.2566037   2.576756   -0.25789976  2.0664625   1.1343144   0.03046149\n",
      "  2.5008998  -0.17718565  0.669799   -0.03561831 -1.9791219   0.8375413\n",
      " -1.4808478  -0.89849937 -2.9838567   1.6049329   0.5310904   5.647111\n",
      " -1.0035272  -1.0626104   4.385912   -2.569216    2.0303676   2.9398925 ]\n"
     ]
    }
   ],
   "source": [
    "#Natural Language Processing\n",
    "#Digital Assignment 1\n",
    "#Pavitra Kadiyala\n",
    "import spacy\n",
    "import en_core_web_sm\n",
    "nlp = en_core_web_sm.load()\n",
    "grape = nlp('grape')\n",
    "print(grape.vector.shape)\n",
    "print(grape.vector)"
   ]
  },
  {
   "cell_type": "code",
   "execution_count": 24,
   "metadata": {},
   "outputs": [
    {
     "name": "stdout",
     "output_type": "stream",
     "text": [
      "Where ADV\n",
      "there PRON\n",
      "is AUX\n",
      "a DET\n",
      "will NOUN\n",
      ", PUNCT\n",
      "there PRON\n",
      "is AUX\n",
      "a DET\n",
      "way NOUN\n",
      "! PUNCT\n"
     ]
    }
   ],
   "source": [
    "#Natural Language Processing\n",
    "#Digital Assignment 1\n",
    "#Pavitra Kadiyala\n",
    "import spacy\n",
    "import en_core_web_sm\n",
    "nlp = en_core_web_sm.load()\n",
    "docs = nlp(\"Where there is a will, there is a way!\")\n",
    "for word in docs:\n",
    "    print(word.text,word.pos_)"
   ]
  },
  {
   "cell_type": "code",
   "execution_count": 29,
   "metadata": {},
   "outputs": [
    {
     "name": "stdout",
     "output_type": "stream",
     "text": [
      "This\n",
      "is\n",
      "an\n",
      "example\n",
      "for\n",
      "tokenization\n"
     ]
    }
   ],
   "source": [
    "#Natural Language Processing\n",
    "#Digital Assignment 1\n",
    "#Pavitra Kadiyala\n",
    "import spacy\n",
    "nlp = spacy.load(\"en_core_web_sm\")\n",
    "doc = nlp(\"This is an example for tokenization\")\n",
    "for t in doc:\n",
    "    print(t.text)"
   ]
  },
  {
   "cell_type": "code",
   "execution_count": null,
   "metadata": {},
   "outputs": [],
   "source": []
  }
 ],
 "metadata": {
  "kernelspec": {
   "display_name": "Python 3",
   "language": "python",
   "name": "python3"
  },
  "language_info": {
   "codemirror_mode": {
    "name": "ipython",
    "version": 3
   },
   "file_extension": ".py",
   "mimetype": "text/x-python",
   "name": "python",
   "nbconvert_exporter": "python",
   "pygments_lexer": "ipython3",
   "version": "3.7.6"
  }
 },
 "nbformat": 4,
 "nbformat_minor": 4
}
